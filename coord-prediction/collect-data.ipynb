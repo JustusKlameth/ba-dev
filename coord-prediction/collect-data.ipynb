{
 "cells": [
  {
   "cell_type": "markdown",
   "metadata": {},
   "source": [
    "# Imports"
   ]
  },
  {
   "cell_type": "code",
   "execution_count": 1,
   "metadata": {},
   "outputs": [],
   "source": [
    "import os\n",
    "import itertools\n",
    "\n",
    "from dotenv import load_dotenv\n",
    "load_dotenv()\n",
    "\n",
    "import pandas as pd\n",
    "pd.set_option('display.max_colwidth', None)\n",
    "\n",
    "from utils import constants\n",
    "from utils.process_data import Preprocessor\n",
    "import utils.create as create"
   ]
  },
  {
   "cell_type": "markdown",
   "metadata": {},
   "source": [
    "# Städte-Daten einlesen ODER Datensatz einlesen, filtern und auswählen"
   ]
  },
  {
   "cell_type": "code",
   "execution_count": 2,
   "metadata": {},
   "outputs": [
    {
     "name": "stdout",
     "output_type": "stream",
     "text": [
      "(3527, 6)\n"
     ]
    },
    {
     "data": {
      "text/html": [
       "<div>\n",
       "<style scoped>\n",
       "    .dataframe tbody tr th:only-of-type {\n",
       "        vertical-align: middle;\n",
       "    }\n",
       "\n",
       "    .dataframe tbody tr th {\n",
       "        vertical-align: top;\n",
       "    }\n",
       "\n",
       "    .dataframe thead th {\n",
       "        text-align: right;\n",
       "    }\n",
       "</style>\n",
       "<table border=\"1\" class=\"dataframe\">\n",
       "  <thead>\n",
       "    <tr style=\"text-align: right;\">\n",
       "      <th></th>\n",
       "      <th>index</th>\n",
       "      <th>Country</th>\n",
       "      <th>City</th>\n",
       "      <th>Population</th>\n",
       "      <th>Latitude</th>\n",
       "      <th>Longitude</th>\n",
       "    </tr>\n",
       "  </thead>\n",
       "  <tbody>\n",
       "    <tr>\n",
       "      <th>0</th>\n",
       "      <td>93</td>\n",
       "      <td>ae</td>\n",
       "      <td>abu dhabi</td>\n",
       "      <td>603687</td>\n",
       "      <td>24.466667</td>\n",
       "      <td>54.366667</td>\n",
       "    </tr>\n",
       "    <tr>\n",
       "      <th>1</th>\n",
       "      <td>242</td>\n",
       "      <td>ae</td>\n",
       "      <td>dubai</td>\n",
       "      <td>1137376</td>\n",
       "      <td>25.258172</td>\n",
       "      <td>55.304717</td>\n",
       "    </tr>\n",
       "    <tr>\n",
       "      <th>2</th>\n",
       "      <td>490</td>\n",
       "      <td>ae</td>\n",
       "      <td>sharjah</td>\n",
       "      <td>543942</td>\n",
       "      <td>25.357310</td>\n",
       "      <td>55.403304</td>\n",
       "    </tr>\n",
       "    <tr>\n",
       "      <th>3</th>\n",
       "      <td>6644</td>\n",
       "      <td>af</td>\n",
       "      <td>baglan</td>\n",
       "      <td>108481</td>\n",
       "      <td>36.130684</td>\n",
       "      <td>68.708286</td>\n",
       "    </tr>\n",
       "    <tr>\n",
       "      <th>4</th>\n",
       "      <td>24457</td>\n",
       "      <td>af</td>\n",
       "      <td>gardez</td>\n",
       "      <td>103732</td>\n",
       "      <td>33.597439</td>\n",
       "      <td>69.225922</td>\n",
       "    </tr>\n",
       "  </tbody>\n",
       "</table>\n",
       "</div>"
      ],
      "text/plain": [
       "   index Country       City  Population   Latitude  Longitude\n",
       "0     93      ae  abu dhabi      603687  24.466667  54.366667\n",
       "1    242      ae      dubai     1137376  25.258172  55.304717\n",
       "2    490      ae    sharjah      543942  25.357310  55.403304\n",
       "3   6644      af     baglan      108481  36.130684  68.708286\n",
       "4  24457      af     gardez      103732  33.597439  69.225922"
      ]
     },
     "metadata": {},
     "output_type": "display_data"
    }
   ],
   "source": [
    "samples_path = './samples/all.csv'\n",
    "# n = 1000 # Anzahl der ausgewählten Einträge\n",
    "\n",
    "create.create_samples(samples_path, n=None)\n",
    "samples = create.load_samples(samples_path)\n",
    "\n",
    "print(samples.shape)\n",
    "display(samples.head())"
   ]
  },
  {
   "cell_type": "markdown",
   "metadata": {},
   "source": [
    "# Llama befragen"
   ]
  },
  {
   "cell_type": "code",
   "execution_count": 3,
   "metadata": {},
   "outputs": [
    {
     "name": "stdout",
     "output_type": "stream",
     "text": [
      "Die Datei ./answers/llama-3.1-8B-Instruct-json-country.csv wurde vollständig erstellt!\n",
      "Achtung! Die Datei ./answers/llama-3.1-8B-Instruct-json-country-p.csv existiert bereits.\n",
      "Daher werden die zugehörigen Anfragen nicht ausgeführt. Es ist möglich, dass dieses Datei allerdings mit anderen Parametern und/oder Daten erzeugt wurde.\n",
      "Die Datei ./answers/llama-3.1-8B-Instruct-json.csv wurde vollständig erstellt!\n",
      "Achtung! Die Datei ./answers/llama-3.1-8B-Instruct-json-p.csv existiert bereits.\n",
      "Daher werden die zugehörigen Anfragen nicht ausgeführt. Es ist möglich, dass dieses Datei allerdings mit anderen Parametern und/oder Daten erzeugt wurde.\n",
      "Die Datei ./answers/llama-3.1-8B-Instruct-original-country.csv wurde vollständig erstellt!\n",
      "Achtung! Die Datei ./answers/llama-3.1-8B-Instruct-original-country-p_llm.csv existiert bereits.\n",
      "Daher werden die zugehörigen Anfragen nicht ausgeführt. Es ist möglich, dass dieses Datei allerdings mit anderen Parametern und/oder Daten erzeugt wurde.\n",
      "Achtung! Die Datei ./answers/llama-3.1-8B-Instruct-original-country-p_regex.csv existiert bereits.\n",
      "Daher werden die zugehörigen Anfragen nicht ausgeführt. Es ist möglich, dass dieses Datei allerdings mit anderen Parametern und/oder Daten erzeugt wurde.\n",
      "Die Datei ./answers/llama-3.1-8B-Instruct-original.csv wurde vollständig erstellt!\n",
      "Achtung! Die Datei ./answers/llama-3.1-8B-Instruct-original-p_llm.csv existiert bereits.\n",
      "Daher werden die zugehörigen Anfragen nicht ausgeführt. Es ist möglich, dass dieses Datei allerdings mit anderen Parametern und/oder Daten erzeugt wurde.\n",
      "Achtung! Die Datei ./answers/llama-3.1-8B-Instruct-original-p_regex.csv existiert bereits.\n",
      "Daher werden die zugehörigen Anfragen nicht ausgeführt. Es ist möglich, dass dieses Datei allerdings mit anderen Parametern und/oder Daten erzeugt wurde.\n",
      "Die Datei ./answers/llama-3.1-70B-Instruct-json-country.csv wurde vollständig erstellt!\n",
      "Achtung! Die Datei ./answers/llama-3.1-70B-Instruct-json-country-p.csv existiert bereits.\n",
      "Daher werden die zugehörigen Anfragen nicht ausgeführt. Es ist möglich, dass dieses Datei allerdings mit anderen Parametern und/oder Daten erzeugt wurde.\n",
      "Die Datei ./answers/llama-3.1-70B-Instruct-json.csv wurde vollständig erstellt!\n",
      "Achtung! Die Datei ./answers/llama-3.1-70B-Instruct-json-p.csv existiert bereits.\n",
      "Daher werden die zugehörigen Anfragen nicht ausgeführt. Es ist möglich, dass dieses Datei allerdings mit anderen Parametern und/oder Daten erzeugt wurde.\n",
      "Die Datei ./answers/llama-3.1-70B-Instruct-original-country.csv wurde vollständig erstellt!\n",
      "Achtung! Die Datei ./answers/llama-3.1-70B-Instruct-original-country-p_llm.csv existiert bereits.\n",
      "Daher werden die zugehörigen Anfragen nicht ausgeführt. Es ist möglich, dass dieses Datei allerdings mit anderen Parametern und/oder Daten erzeugt wurde.\n",
      "Achtung! Die Datei ./answers/llama-3.1-70B-Instruct-original-country-p_regex.csv existiert bereits.\n",
      "Daher werden die zugehörigen Anfragen nicht ausgeführt. Es ist möglich, dass dieses Datei allerdings mit anderen Parametern und/oder Daten erzeugt wurde.\n",
      "Die Datei ./answers/llama-3.1-70B-Instruct-original.csv wurde vollständig erstellt!\n",
      "Achtung! Die Datei ./answers/llama-3.1-70B-Instruct-original-p_llm.csv existiert bereits.\n",
      "Daher werden die zugehörigen Anfragen nicht ausgeführt. Es ist möglich, dass dieses Datei allerdings mit anderen Parametern und/oder Daten erzeugt wurde.\n",
      "Achtung! Die Datei ./answers/llama-3.1-70B-Instruct-original-p_regex.csv existiert bereits.\n",
      "Daher werden die zugehörigen Anfragen nicht ausgeführt. Es ist möglich, dass dieses Datei allerdings mit anderen Parametern und/oder Daten erzeugt wurde.\n",
      "Die Datei ./answers/llama-3.1-405B-Instruct-json-country.csv wurde vollständig erstellt!\n",
      "Achtung! Die Datei ./answers/llama-3.1-405B-Instruct-json-country-p.csv existiert bereits.\n",
      "Daher werden die zugehörigen Anfragen nicht ausgeführt. Es ist möglich, dass dieses Datei allerdings mit anderen Parametern und/oder Daten erzeugt wurde.\n",
      "Die Datei ./answers/llama-3.1-405B-Instruct-json.csv wurde vollständig erstellt!\n",
      "Achtung! Die Datei ./answers/llama-3.1-405B-Instruct-json-p.csv existiert bereits.\n",
      "Daher werden die zugehörigen Anfragen nicht ausgeführt. Es ist möglich, dass dieses Datei allerdings mit anderen Parametern und/oder Daten erzeugt wurde.\n",
      "Die Datei ./answers/llama-3.1-405B-Instruct-original-country.csv wurde vollständig erstellt!\n",
      "Achtung! Die Datei ./answers/llama-3.1-405B-Instruct-original-country-p_llm.csv existiert bereits.\n",
      "Daher werden die zugehörigen Anfragen nicht ausgeführt. Es ist möglich, dass dieses Datei allerdings mit anderen Parametern und/oder Daten erzeugt wurde.\n",
      "Achtung! Die Datei ./answers/llama-3.1-405B-Instruct-original-country-p_regex.csv existiert bereits.\n",
      "Daher werden die zugehörigen Anfragen nicht ausgeführt. Es ist möglich, dass dieses Datei allerdings mit anderen Parametern und/oder Daten erzeugt wurde.\n",
      "Die Datei ./answers/llama-3.1-405B-Instruct-original.csv wurde vollständig erstellt!\n",
      "Achtung! Die Datei ./answers/llama-3.1-405B-Instruct-original-p_llm.csv existiert bereits.\n",
      "Daher werden die zugehörigen Anfragen nicht ausgeführt. Es ist möglich, dass dieses Datei allerdings mit anderen Parametern und/oder Daten erzeugt wurde.\n",
      "Achtung! Die Datei ./answers/llama-3.1-405B-Instruct-original-p_regex.csv existiert bereits.\n",
      "Daher werden die zugehörigen Anfragen nicht ausgeführt. Es ist möglich, dass dieses Datei allerdings mit anderen Parametern und/oder Daten erzeugt wurde.\n",
      "Die Datei ./answers/llama-3.3-70B-Instruct-json-country.csv wurde vollständig erstellt!\n",
      "Achtung! Die Datei ./answers/llama-3.3-70B-Instruct-json-country-p.csv existiert bereits.\n",
      "Daher werden die zugehörigen Anfragen nicht ausgeführt. Es ist möglich, dass dieses Datei allerdings mit anderen Parametern und/oder Daten erzeugt wurde.\n",
      "Die Datei ./answers/llama-3.3-70B-Instruct-json.csv wurde vollständig erstellt!\n",
      "Achtung! Die Datei ./answers/llama-3.3-70B-Instruct-json-p.csv existiert bereits.\n",
      "Daher werden die zugehörigen Anfragen nicht ausgeführt. Es ist möglich, dass dieses Datei allerdings mit anderen Parametern und/oder Daten erzeugt wurde.\n",
      "Die Datei ./answers/llama-3.3-70B-Instruct-original-country.csv wurde vollständig erstellt!\n",
      "Achtung! Die Datei ./answers/llama-3.3-70B-Instruct-original-country-p_llm.csv existiert bereits.\n",
      "Daher werden die zugehörigen Anfragen nicht ausgeführt. Es ist möglich, dass dieses Datei allerdings mit anderen Parametern und/oder Daten erzeugt wurde.\n",
      "Achtung! Die Datei ./answers/llama-3.3-70B-Instruct-original-country-p_regex.csv existiert bereits.\n",
      "Daher werden die zugehörigen Anfragen nicht ausgeführt. Es ist möglich, dass dieses Datei allerdings mit anderen Parametern und/oder Daten erzeugt wurde.\n",
      "Die Datei ./answers/llama-3.3-70B-Instruct-original.csv wurde vollständig erstellt!\n",
      "Achtung! Die Datei ./answers/llama-3.3-70B-Instruct-original-p_llm.csv existiert bereits.\n",
      "Daher werden die zugehörigen Anfragen nicht ausgeführt. Es ist möglich, dass dieses Datei allerdings mit anderen Parametern und/oder Daten erzeugt wurde.\n",
      "Achtung! Die Datei ./answers/llama-3.3-70B-Instruct-original-p_regex.csv existiert bereits.\n",
      "Daher werden die zugehörigen Anfragen nicht ausgeführt. Es ist möglich, dass dieses Datei allerdings mit anderen Parametern und/oder Daten erzeugt wurde.\n"
     ]
    }
   ],
   "source": [
    "DEEPINFRA_API_KEY = os.getenv('DEEPINFRA_API_KEY')\n",
    "\n",
    "file_name_template = '{model_key}-Instruct-{template_key}{add_country}'\n",
    "path = './answers/'\n",
    "\n",
    "queries = itertools.product(constants.models.keys(), constants.templates.keys(), [True, False])\n",
    "\n",
    "# Für jede Kombination von LLM, Template und mit/ohne Land\n",
    "for (model_key, template_key, add_country) in queries:\n",
    "    file_name = file_name_template.format(model_key=model_key, template_key=template_key, add_country= '-country' if add_country else '')\n",
    "    file_path = os.path.join(path, file_name + '.csv')\n",
    "\n",
    "    create.query_save_parallel(constants.models[model_key], constants.templates[template_key], file_path, DEEPINFRA_API_KEY, samples, add_country=add_country, process_number=100)\n",
    "    \n",
    "    # Auswertung für das originale Template\n",
    "    if template_key == 'original':\n",
    "        path_output_llm = os.path.join(path, file_name + '-p_llm.csv')\n",
    "        Preprocessor.llm_save_parallel(file_path, path_output_llm, DEEPINFRA_API_KEY, process_number=100)\n",
    "\n",
    "        path_output_regex = os.path.join(path, file_name + '-p_regex.csv')\n",
    "        Preprocessor.regex(file_path, path_output_regex)\n",
    "    # Auswertung für das json-Template\n",
    "    elif template_key == 'json':\n",
    "        path_output_json = os.path.join(path, file_name + '-p.csv')\n",
    "        Preprocessor.json(file_path, path_output_json)\n",
    "    else:\n",
    "        print(f\"Die Datei {file_path} hat kein gültiges Template!\")\n",
    "    "
   ]
  }
 ],
 "metadata": {
  "kernelspec": {
   "display_name": "bachelor-arbeit",
   "language": "python",
   "name": "python3"
  },
  "language_info": {
   "codemirror_mode": {
    "name": "ipython",
    "version": 3
   },
   "file_extension": ".py",
   "mimetype": "text/x-python",
   "name": "python",
   "nbconvert_exporter": "python",
   "pygments_lexer": "ipython3",
   "version": "3.12.5"
  }
 },
 "nbformat": 4,
 "nbformat_minor": 2
}
