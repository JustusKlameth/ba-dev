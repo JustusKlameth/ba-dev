{
 "cells": [
  {
   "cell_type": "markdown",
   "metadata": {},
   "source": [
    "# Wie gut kennen die Llama-Modelle Distanzen zwischen großen Städten?"
   ]
  },
  {
   "cell_type": "code",
   "execution_count": 1,
   "metadata": {},
   "outputs": [],
   "source": [
    "import os\n",
    "import numpy as np\n",
    "from geopy import distance\n",
    "import matplotlib.pyplot as plt\n",
    "import itertools\n",
    "import json\n",
    "\n",
    "import pandas as pd\n",
    "pd.set_option('display.max_colwidth', None)\n",
    "\n",
    "from dotenv import load_dotenv\n",
    "load_dotenv()\n",
    "\n",
    "from utils import constants\n",
    "from utils.pool import query_save_parallel"
   ]
  },
  {
   "cell_type": "markdown",
   "metadata": {},
   "source": [
    "### Datensatz erstellen"
   ]
  },
  {
   "cell_type": "code",
   "execution_count": 2,
   "metadata": {},
   "outputs": [],
   "source": [
    "samples_path = './samples/all.csv'\n",
    "# n = 100 # Anzahl ausgewählten Paare\n",
    "\n",
    "columns = ['Country', 'City', 'Population', 'Latitude', 'Longitude'] # Spalten, die beachtet werden sollen\n",
    "dtype = dict(zip(columns, ['object', 'object', 'Int64', 'float64', 'float64'])) # Datentypen der Spalten"
   ]
  },
  {
   "cell_type": "code",
   "execution_count": 3,
   "metadata": {},
   "outputs": [
    {
     "data": {
      "text/html": [
       "<div>\n",
       "<style scoped>\n",
       "    .dataframe tbody tr th:only-of-type {\n",
       "        vertical-align: middle;\n",
       "    }\n",
       "\n",
       "    .dataframe tbody tr th {\n",
       "        vertical-align: top;\n",
       "    }\n",
       "\n",
       "    .dataframe thead th {\n",
       "        text-align: right;\n",
       "    }\n",
       "</style>\n",
       "<table border=\"1\" class=\"dataframe\">\n",
       "  <thead>\n",
       "    <tr style=\"text-align: right;\">\n",
       "      <th></th>\n",
       "      <th>Country_1</th>\n",
       "      <th>City_1</th>\n",
       "      <th>Population_1</th>\n",
       "      <th>Latitude_1</th>\n",
       "      <th>Longitude_1</th>\n",
       "      <th>Country_2</th>\n",
       "      <th>City_2</th>\n",
       "      <th>Population_2</th>\n",
       "      <th>Latitude_2</th>\n",
       "      <th>Longitude_2</th>\n",
       "    </tr>\n",
       "  </thead>\n",
       "  <tbody>\n",
       "    <tr>\n",
       "      <th>0</th>\n",
       "      <td>cn</td>\n",
       "      <td>rongcheng</td>\n",
       "      <td>1001985</td>\n",
       "      <td>23.528858</td>\n",
       "      <td>116.364159</td>\n",
       "      <td>ru</td>\n",
       "      <td>angarsk</td>\n",
       "      <td>243161</td>\n",
       "      <td>52.536667</td>\n",
       "      <td>103.886389</td>\n",
       "    </tr>\n",
       "    <tr>\n",
       "      <th>1</th>\n",
       "      <td>py</td>\n",
       "      <td>fernando de la mora</td>\n",
       "      <td>120180</td>\n",
       "      <td>-25.316667</td>\n",
       "      <td>-57.600000</td>\n",
       "      <td>ph</td>\n",
       "      <td>cebu</td>\n",
       "      <td>758597</td>\n",
       "      <td>10.311111</td>\n",
       "      <td>123.891667</td>\n",
       "    </tr>\n",
       "    <tr>\n",
       "      <th>2</th>\n",
       "      <td>cn</td>\n",
       "      <td>huangzhou</td>\n",
       "      <td>122563</td>\n",
       "      <td>30.450000</td>\n",
       "      <td>114.800000</td>\n",
       "      <td>cn</td>\n",
       "      <td>guiyang</td>\n",
       "      <td>1171633</td>\n",
       "      <td>26.583333</td>\n",
       "      <td>106.716667</td>\n",
       "    </tr>\n",
       "    <tr>\n",
       "      <th>3</th>\n",
       "      <td>tr</td>\n",
       "      <td>iskenderun</td>\n",
       "      <td>160046</td>\n",
       "      <td>36.587185</td>\n",
       "      <td>36.173468</td>\n",
       "      <td>au</td>\n",
       "      <td>cairns</td>\n",
       "      <td>154318</td>\n",
       "      <td>-16.923040</td>\n",
       "      <td>145.766251</td>\n",
       "    </tr>\n",
       "    <tr>\n",
       "      <th>4</th>\n",
       "      <td>in</td>\n",
       "      <td>azamgarh</td>\n",
       "      <td>116655</td>\n",
       "      <td>26.060000</td>\n",
       "      <td>83.186111</td>\n",
       "      <td>in</td>\n",
       "      <td>amritsar</td>\n",
       "      <td>1092528</td>\n",
       "      <td>31.633056</td>\n",
       "      <td>74.865556</td>\n",
       "    </tr>\n",
       "  </tbody>\n",
       "</table>\n",
       "</div>"
      ],
      "text/plain": [
       "  Country_1               City_1  Population_1  Latitude_1  Longitude_1  \\\n",
       "0        cn            rongcheng       1001985   23.528858   116.364159   \n",
       "1        py  fernando de la mora        120180  -25.316667   -57.600000   \n",
       "2        cn            huangzhou        122563   30.450000   114.800000   \n",
       "3        tr           iskenderun        160046   36.587185    36.173468   \n",
       "4        in             azamgarh        116655   26.060000    83.186111   \n",
       "\n",
       "  Country_2    City_2  Population_2  Latitude_2  Longitude_2  \n",
       "0        ru   angarsk        243161   52.536667   103.886389  \n",
       "1        ph      cebu        758597   10.311111   123.891667  \n",
       "2        cn   guiyang       1171633   26.583333   106.716667  \n",
       "3        au    cairns        154318  -16.923040   145.766251  \n",
       "4        in  amritsar       1092528   31.633056    74.865556  "
      ]
     },
     "metadata": {},
     "output_type": "display_data"
    },
    {
     "name": "stdout",
     "output_type": "stream",
     "text": [
      "1763\n"
     ]
    }
   ],
   "source": [
    "if not os.path.exists(samples_path): # wenn die Daten noch nicht existieren:\n",
    "    # Daten einlesen\n",
    "    df = pd.read_csv('../data/worldcitiespop.csv', usecols=columns, dtype=dtype)\n",
    "    \n",
    "    # Daten filtern:\n",
    "    # nur Städte mit mehr als 100.000 Einwohnern\n",
    "    # laut Paper 3.527 (passt)\n",
    "    df = df[df['Population'] > 100000]\n",
    "\n",
    "    # Einträge zufällig permutieren\n",
    "    df = df.sample(frac=1).reset_index(drop=True)\n",
    "\n",
    "    # Sicherstellen, dass Paare gebildet werden können\n",
    "    n = df.shape[0]\n",
    "    even_number = n - n % 2\n",
    "    df = df[:even_number]\n",
    "\n",
    "    # Aufteilen in zwei Gruppen mit jeweils even_number / 2 Elementen\n",
    "    splitter = int(even_number / 2)\n",
    "    group_1 = df[:splitter]\n",
    "    group_2 = df[splitter:]\n",
    "\n",
    "    # Umbenennen und Index zurücksetzen\n",
    "    group_1 = group_1.rename(columns={\n",
    "        'Country': 'Country_1',\n",
    "        'City': 'City_1',\n",
    "        'Population': 'Population_1',\n",
    "        'Latitude': 'Latitude_1',\n",
    "        'Longitude': 'Longitude_1'\n",
    "    })\n",
    "    group_1 = group_1.reset_index(drop=True)\n",
    "    \n",
    "    group_2 = group_2.rename(columns={\n",
    "        'Country': 'Country_2',\n",
    "        'City': 'City_2',\n",
    "        'Population': 'Population_2',\n",
    "        'Latitude': 'Latitude_2',\n",
    "        'Longitude': 'Longitude_2'\n",
    "    })\n",
    "    group_2 = group_2.reset_index(drop=True)\n",
    "\n",
    "    # Gruppen zu Paaren zusammenführen\n",
    "    groups = pd.concat([group_1, group_2], axis=1)\n",
    "    print(f'Anzahl der Einträge nach dem Auswählen: {groups.shape[0]}')\n",
    "\n",
    "    # Speichern der Daten\n",
    "    groups.to_csv(samples_path, index=False)\n",
    "\n",
    "# Daten einlesen\n",
    "samples = pd.read_csv(samples_path, dtype=dtype)\n",
    "display(samples.head())\n",
    "print(samples.shape[0])"
   ]
  },
  {
   "cell_type": "markdown",
   "metadata": {},
   "source": [
    "### Distanz zwischen den Städten berechnen"
   ]
  },
  {
   "cell_type": "code",
   "execution_count": 4,
   "metadata": {},
   "outputs": [
    {
     "data": {
      "text/html": [
       "<div>\n",
       "<style scoped>\n",
       "    .dataframe tbody tr th:only-of-type {\n",
       "        vertical-align: middle;\n",
       "    }\n",
       "\n",
       "    .dataframe tbody tr th {\n",
       "        vertical-align: top;\n",
       "    }\n",
       "\n",
       "    .dataframe thead th {\n",
       "        text-align: right;\n",
       "    }\n",
       "</style>\n",
       "<table border=\"1\" class=\"dataframe\">\n",
       "  <thead>\n",
       "    <tr style=\"text-align: right;\">\n",
       "      <th></th>\n",
       "      <th>Country_1</th>\n",
       "      <th>City_1</th>\n",
       "      <th>Latitude_1</th>\n",
       "      <th>Longitude_1</th>\n",
       "      <th>Country_2</th>\n",
       "      <th>City_2</th>\n",
       "      <th>Latitude_2</th>\n",
       "      <th>Longitude_2</th>\n",
       "      <th>Distance</th>\n",
       "    </tr>\n",
       "  </thead>\n",
       "  <tbody>\n",
       "    <tr>\n",
       "      <th>0</th>\n",
       "      <td>cn</td>\n",
       "      <td>rongcheng</td>\n",
       "      <td>23.528858</td>\n",
       "      <td>116.364159</td>\n",
       "      <td>ru</td>\n",
       "      <td>angarsk</td>\n",
       "      <td>52.536667</td>\n",
       "      <td>103.886389</td>\n",
       "      <td>3390.045592</td>\n",
       "    </tr>\n",
       "    <tr>\n",
       "      <th>1</th>\n",
       "      <td>py</td>\n",
       "      <td>fernando de la mora</td>\n",
       "      <td>-25.316667</td>\n",
       "      <td>-57.600000</td>\n",
       "      <td>ph</td>\n",
       "      <td>cebu</td>\n",
       "      <td>10.311111</td>\n",
       "      <td>123.891667</td>\n",
       "      <td>18335.869385</td>\n",
       "    </tr>\n",
       "    <tr>\n",
       "      <th>2</th>\n",
       "      <td>cn</td>\n",
       "      <td>huangzhou</td>\n",
       "      <td>30.450000</td>\n",
       "      <td>114.800000</td>\n",
       "      <td>cn</td>\n",
       "      <td>guiyang</td>\n",
       "      <td>26.583333</td>\n",
       "      <td>106.716667</td>\n",
       "      <td>899.478166</td>\n",
       "    </tr>\n",
       "    <tr>\n",
       "      <th>3</th>\n",
       "      <td>tr</td>\n",
       "      <td>iskenderun</td>\n",
       "      <td>36.587185</td>\n",
       "      <td>36.173468</td>\n",
       "      <td>au</td>\n",
       "      <td>cairns</td>\n",
       "      <td>-16.923040</td>\n",
       "      <td>145.766251</td>\n",
       "      <td>12848.309267</td>\n",
       "    </tr>\n",
       "    <tr>\n",
       "      <th>4</th>\n",
       "      <td>in</td>\n",
       "      <td>azamgarh</td>\n",
       "      <td>26.060000</td>\n",
       "      <td>83.186111</td>\n",
       "      <td>in</td>\n",
       "      <td>amritsar</td>\n",
       "      <td>31.633056</td>\n",
       "      <td>74.865556</td>\n",
       "      <td>1019.566326</td>\n",
       "    </tr>\n",
       "  </tbody>\n",
       "</table>\n",
       "</div>"
      ],
      "text/plain": [
       "  Country_1               City_1  Latitude_1  Longitude_1 Country_2    City_2  \\\n",
       "0        cn            rongcheng   23.528858   116.364159        ru   angarsk   \n",
       "1        py  fernando de la mora  -25.316667   -57.600000        ph      cebu   \n",
       "2        cn            huangzhou   30.450000   114.800000        cn   guiyang   \n",
       "3        tr           iskenderun   36.587185    36.173468        au    cairns   \n",
       "4        in             azamgarh   26.060000    83.186111        in  amritsar   \n",
       "\n",
       "   Latitude_2  Longitude_2      Distance  \n",
       "0   52.536667   103.886389   3390.045592  \n",
       "1   10.311111   123.891667  18335.869385  \n",
       "2   26.583333   106.716667    899.478166  \n",
       "3  -16.923040   145.766251  12848.309267  \n",
       "4   31.633056    74.865556   1019.566326  "
      ]
     },
     "metadata": {},
     "output_type": "display_data"
    }
   ],
   "source": [
    "distances = np.empty(samples.shape[0])\n",
    "\n",
    "for index, row in samples.iterrows():\n",
    "\n",
    "    try:\n",
    "        distances[index] = distance.distance((row['Latitude_1'], row['Longitude_1']), (row['Latitude_2'], row['Longitude_2'])).km\n",
    "    except:\n",
    "        distances[index] = np.nan\n",
    "\n",
    "samples = samples.assign(Distance=pd.Series(distances).values)\n",
    "display(samples[['Country_1', 'City_1', 'Latitude_1', 'Longitude_1', 'Country_2', 'City_2', 'Latitude_2', 'Longitude_2', 'Distance']].head())"
   ]
  },
  {
   "cell_type": "markdown",
   "metadata": {},
   "source": [
    "### Llama fragen"
   ]
  },
  {
   "cell_type": "code",
   "execution_count": 5,
   "metadata": {},
   "outputs": [
    {
     "name": "stdout",
     "output_type": "stream",
     "text": [
      "Die Datei ./answers/llama-3.1-8B-Instruct-json-country.csv wurde vollständig erstellt!\n",
      "Die Datei ./answers/llama-3.1-8B-Instruct-json.csv wurde vollständig erstellt!\n",
      "Die Datei ./answers/llama-3.1-70B-Instruct-json-country.csv wurde vollständig erstellt!\n",
      "Die Datei ./answers/llama-3.1-70B-Instruct-json.csv wurde vollständig erstellt!\n",
      "Die Datei ./answers/llama-3.1-405B-Instruct-json-country.csv wurde vollständig erstellt!\n",
      "Die Datei ./answers/llama-3.1-405B-Instruct-json.csv wurde vollständig erstellt!\n",
      "Die Datei ./answers/llama-3.3-70B-Instruct-json-country.csv wurde vollständig erstellt!\n",
      "Die Datei ./answers/llama-3.3-70B-Instruct-json.csv wurde vollständig erstellt!\n"
     ]
    }
   ],
   "source": [
    "DEEPINFRA_API_KEY = os.getenv('DEEPINFRA_API_KEY')\n",
    "\n",
    "file_name_template = '{model_key}-Instruct-{template_key}{add_country}'\n",
    "path = './answers/'\n",
    "\n",
    "queries = itertools.product(constants.models.keys(), constants.templates.keys(), [True, False])\n",
    "dfs = {}\n",
    "\n",
    "# Für jede Kombination von LLM, Template und mit/ohne Land\n",
    "for (model_key, template_key, add_country) in queries:\n",
    "    file_name = file_name_template.format(model_key=model_key, template_key=template_key, add_country= '-country' if add_country else '')\n",
    "    file_path = os.path.join(path, file_name + '.csv')\n",
    "\n",
    "    df = query_save_parallel(constants.models[model_key], constants.templates[template_key], file_path, DEEPINFRA_API_KEY, samples, add_country=add_country, process_number=100)\n",
    "\n",
    "    model_number = model_key.split('-')[1:]\n",
    "    df_key = '-'.join(model_number)\n",
    "\n",
    "    if add_country:\n",
    "        df_key = df_key + \"-country\"\n",
    "\n",
    "    dfs[df_key] = df"
   ]
  },
  {
   "cell_type": "markdown",
   "metadata": {},
   "source": [
    "### Antworten auswerten"
   ]
  },
  {
   "cell_type": "code",
   "execution_count": 6,
   "metadata": {},
   "outputs": [],
   "source": [
    "def extract_coords_json(df):\n",
    "    n = df.shape[0]\n",
    "    distance_llm = np.empty(n)\n",
    "\n",
    "    for index, row in df.iterrows():\n",
    "        answer = row['Answers']\n",
    "\n",
    "        try:\n",
    "            answer_json = json.loads(answer)\n",
    "            \n",
    "            distance_llm[index] = answer_json['distance']\n",
    "        except:\n",
    "            distance_llm[index] = np.nan\n",
    "            \n",
    "    df = df.assign(DistanceLLM=pd.Series(distance_llm).values)\n",
    "    return df"
   ]
  },
  {
   "cell_type": "code",
   "execution_count": 7,
   "metadata": {},
   "outputs": [],
   "source": [
    "for key in dfs.keys():\n",
    "    dfs[key] = extract_coords_json(dfs[key])\n",
    "    dfs[key]['Error'] = np.abs(dfs[key]['Distance'] - dfs[key]['DistanceLLM'])"
   ]
  },
  {
   "cell_type": "code",
   "execution_count": 8,
   "metadata": {},
   "outputs": [
    {
     "name": "stdout",
     "output_type": "stream",
     "text": [
      "dict_keys(['3.1-8B-country', '3.1-8B', '3.1-70B-country', '3.1-70B', '3.1-405B-country', '3.1-405B', '3.3-70B-country', '3.3-70B'])\n"
     ]
    }
   ],
   "source": [
    "print(str(dfs.keys()))"
   ]
  },
  {
   "cell_type": "code",
   "execution_count": 9,
   "metadata": {},
   "outputs": [
    {
     "data": {
      "image/png": "[encoded data removed]",
      "text/plain": [
       "<Figure size 640x480 with 1 Axes>"
      ]
     },
     "metadata": {},
     "output_type": "display_data"
    }
   ],
   "source": [
    "types = ('Ohne Länderinformation', 'Mit Länderinformation')\n",
    "data = {\n",
    "    '3.1-8B': [np.nanmean(df['Error']) for df in [dfs['3.1-8B'], dfs['3.1-8B-country']]],\n",
    "    '3.1-70B': [np.nanmean(df['Error']) for df in [dfs['3.1-70B'], dfs['3.1-70B-country']]],\n",
    "    '3.1-405B': [np.nanmean(df['Error']) for df in [dfs['3.1-405B'], dfs['3.1-405B-country']]],\n",
    "    '3.3-70B': [np.nanmean(df['Error']) for df in [dfs['3.3-70B'], dfs['3.3-70B-country']]],\n",
    "}\n",
    "\n",
    "x = np.arange(len(types))  # the label locations\n",
    "width = 0.2  # the width of the bars\n",
    "multiplier = 0\n",
    "\n",
    "fig, ax = plt.subplots(layout='constrained')\n",
    "\n",
    "max_value = 0\n",
    "\n",
    "for attribute, measurement in data.items():\n",
    "    max_value = np.max([max_value] + measurement)\n",
    "\n",
    "    offset = width * multiplier\n",
    "    rects = ax.bar(x + offset, measurement, width, label=attribute)\n",
    "    ax.bar_label(rects, padding=3, fmt = lambda i : int(np.round(i, 0)))\n",
    "    multiplier += 1\n",
    "\n",
    "# Add some text for labels, title and custom x-axis tick labels, etc.\n",
    "ax.set_ylabel('Durschnittlicher Fehler (km)')\n",
    "ax.set_title('Distanz zwischen zwei Städten\\nDurchschnittlicher Fehler der Llama-Modelle')\n",
    "ax.set_xticks(x + width * 1.5, types)\n",
    "ax.legend(loc='upper left', ncols=4)\n",
    "ax.set_ylim(0, max_value + 1000)\n",
    "\n",
    "plt.savefig('./results/distances.pdf')\n",
    "plt.show()"
   ]
  },
  {
   "cell_type": "markdown",
   "metadata": {},
   "source": [
    "# p-Werte"
   ]
  },
  {
   "cell_type": "code",
   "execution_count": 10,
   "metadata": {},
   "outputs": [
    {
     "data": {
      "image/png": "[encoded data removed]",
      "text/plain": [
       "<Figure size 640x480 with 1 Axes>"
      ]
     },
     "metadata": {},
     "output_type": "display_data"
    },
    {
     "name": "stdout",
     "output_type": "stream",
     "text": [
      "Original: 99.06 +/- 0.42\n",
      "Country: 98.82 +/- 1.23\n"
     ]
    }
   ],
   "source": [
    "def get_p(keys):\n",
    "    # Der prozentuale Anteil der Antworten, die korrekt ausgewertet werden konnten\n",
    "    ns = np.array([dfs[key].shape[0] for key in keys])\n",
    "    nans = np.array([dfs[key]['Error'].isna().sum() for key in keys])\n",
    "    percentages = (ns - nans) / ns * 100\n",
    "    return percentages\n",
    "\n",
    "types = ('Ohne Länderinformation', 'Mit Länderinformation')\n",
    "data = {\n",
    "    '3.1-8B': get_p(['3.1-8B', '3.1-8B-country']),\n",
    "    '3.1-70B': get_p(['3.1-70B', '3.1-70B-country']),\n",
    "    '3.1-405B': get_p(['3.1-405B', '3.1-405B-country']),\n",
    "    '3.3-70B': get_p(['3.3-70B', '3.3-70B-country']),\n",
    "}\n",
    "\n",
    "x = np.arange(len(types))  # the label locations\n",
    "width = 0.2  # the width of the bars\n",
    "multiplier = 0\n",
    "\n",
    "fig, ax = plt.subplots(layout='constrained')\n",
    "\n",
    "max_value = 0\n",
    "\n",
    "for attribute, measurement in data.items():\n",
    "    max_value = np.max([max_value] + measurement)\n",
    "\n",
    "    offset = width * multiplier\n",
    "    rects = ax.bar(x + offset, measurement, width, label=attribute)\n",
    "    ax.bar_label(rects, padding=3, fmt = lambda i : np.round(i, 1))\n",
    "    multiplier += 1\n",
    "\n",
    "# Add some text for labels, title and custom x-axis tick labels, etc.\n",
    "ax.set_ylabel('Anteil der verarbeitbaren Antworten (%)')\n",
    "ax.set_title('Anteil der verarbeitbaren Antworten im Vergleich')\n",
    "ax.set_xticks(x + width * 1.5, types)\n",
    "ax.legend(loc='upper left', ncols=4)\n",
    "ax.set_ylim(0, 119)\n",
    "\n",
    "plt.savefig('./results/dist-p.pdf')\n",
    "plt.show()\n",
    "\n",
    "original_values = list()\n",
    "country_values = []\n",
    "\n",
    "for (original, country) in data.values():\n",
    "    original_values.append(original)\n",
    "    country_values.append(country)\n",
    "    \n",
    "print(f\"Original: {round(np.mean(original_values), 2)} +/- {round(np.std(original_values), 2)}\")\n",
    "print(f\"Country: {round(np.mean(country_values), 2)} +/- {round(np.std(country_values), 2)}\")"
   ]
  },
  {
   "cell_type": "markdown",
   "metadata": {},
   "source": [
    "# Standardabweichung"
   ]
  },
  {
   "cell_type": "code",
   "execution_count": 11,
   "metadata": {},
   "outputs": [
    {
     "name": "stdout",
     "output_type": "stream",
     "text": [
      "3.1-8B-country 1304.4\n",
      "3.1-8B 3697.7\n",
      "3.1-70B-country 840.9\n",
      "3.1-70B 2484.1\n",
      "3.1-405B-country 749.5\n",
      "3.1-405B 2266.4\n",
      "3.3-70B-country 616.2\n",
      "3.3-70B 2201.4\n"
     ]
    }
   ],
   "source": [
    "keys = dfs.keys()\n",
    "\n",
    "for key in keys:\n",
    "    df = dfs[key]\n",
    "    std = np.nanstd(df['Error'])\n",
    "    print(key, round(std, 1))"
   ]
  }
 ],
 "metadata": {
  "kernelspec": {
   "display_name": "bachelor-arbeit",
   "language": "python",
   "name": "python3"
  },
  "language_info": {
   "codemirror_mode": {
    "name": "ipython",
    "version": 3
   },
   "file_extension": ".py",
   "mimetype": "text/x-python",
   "name": "python",
   "nbconvert_exporter": "python",
   "pygments_lexer": "ipython3",
   "version": "3.12.5"
  }
 },
 "nbformat": 4,
 "nbformat_minor": 2
}
